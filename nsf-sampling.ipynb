{
 "cells": [
  {
   "cell_type": "code",
   "execution_count": 1,
   "metadata": {},
   "outputs": [],
   "source": [
    "import sys"
   ]
  },
  {
   "cell_type": "code",
   "execution_count": 2,
   "metadata": {},
   "outputs": [],
   "source": [
    "import os\n",
    "import pickle as pk\n",
    "import numpy as np\n",
    "from datetime import datetime\n",
    "\n",
    "sys.path.insert(0, './algos/')\n",
    "import _nsf_multi_aglos"
   ]
  },
  {
   "cell_type": "code",
   "execution_count": 3,
   "metadata": {},
   "outputs": [
    {
     "name": "stdout",
     "output_type": "stream",
     "text": [
      "nsf_org11090000\n",
      "4270\n",
      "('start_with', 0)\n",
      "XS_data_0\n",
      "FF_data_0\n",
      "RW_data_0\n",
      "UNI_data_0\n",
      "ES_data_0\n",
      "SI_data_0\n",
      "('start_with', 1)\n",
      "XS_data_1\n",
      "FF_data_1\n",
      "RW_data_1\n",
      "UNI_data_1\n",
      "ES_data_1\n",
      "SI_data_1\n"
     ]
    },
    {
     "ename": "KeyboardInterrupt",
     "evalue": "",
     "output_type": "error",
     "traceback": [
      "\u001b[0;31m---------------------------------------------------------------------------\u001b[0m",
      "\u001b[0;31mKeyboardInterrupt\u001b[0m                         Traceback (most recent call last)",
      "\u001b[0;32m<ipython-input-3-edb7a527e6d0>\u001b[0m in \u001b[0;36m<module>\u001b[0;34m()\u001b[0m\n\u001b[1;32m     36\u001b[0m \u001b[0;34m\u001b[0m\u001b[0m\n\u001b[1;32m     37\u001b[0m             \u001b[0;31m# sampling the nodes\u001b[0m\u001b[0;34m\u001b[0m\u001b[0;34m\u001b[0m\u001b[0m\n\u001b[0;32m---> 38\u001b[0;31m             \u001b[0m_\u001b[0m\u001b[0;34m,\u001b[0m \u001b[0msampled_ids\u001b[0m  \u001b[0;34m=\u001b[0m \u001b[0mafunc\u001b[0m\u001b[0;34m(\u001b[0m\u001b[0mg\u001b[0m\u001b[0;34m,\u001b[0m \u001b[0mseed\u001b[0m\u001b[0;34m,\u001b[0m \u001b[0mstepsize\u001b[0m\u001b[0;34m,\u001b[0m \u001b[0mlen\u001b[0m\u001b[0;34m(\u001b[0m\u001b[0mfinding_attrs\u001b[0m\u001b[0;34m)\u001b[0m\u001b[0;34m,\u001b[0m \u001b[0mdataclustersize\u001b[0m\u001b[0;34m,\u001b[0m \u001b[0;34m[\u001b[0m\u001b[0;34m'awad'\u001b[0m\u001b[0;34m]\u001b[0m\u001b[0;34m,\u001b[0m \u001b[0msample_rate\u001b[0m\u001b[0;34m,\u001b[0m \u001b[0mpnames\u001b[0m\u001b[0;34m)\u001b[0m\u001b[0;34m\u001b[0m\u001b[0m\n\u001b[0m\u001b[1;32m     39\u001b[0m \u001b[0;34m\u001b[0m\u001b[0m\n\u001b[1;32m     40\u001b[0m \u001b[0;34m\u001b[0m\u001b[0m\n",
      "\u001b[0;32m/Users/suhansanu/Desktop/new/sampling/release-code-data/algos/_nsf_multi_aglos.pyc\u001b[0m in \u001b[0;36msurprise_sampling\u001b[0;34m(g, seed, stepsize, attr_size, datacluster_size, attrs, error, pnames)\u001b[0m\n\u001b[1;32m    977\u001b[0m                         \u001b[0mtotal_set\u001b[0m \u001b[0;34m=\u001b[0m \u001b[0mset\u001b[0m\u001b[0;34m(\u001b[0m\u001b[0mfrontier\u001b[0m\u001b[0;34m)\u001b[0m\u001b[0;34m\u001b[0m\u001b[0m\n\u001b[1;32m    978\u001b[0m                         \u001b[0;32mfor\u001b[0m \u001b[0mii\u001b[0m \u001b[0;32min\u001b[0m \u001b[0mrange\u001b[0m\u001b[0;34m(\u001b[0m\u001b[0mlen\u001b[0m\u001b[0;34m(\u001b[0m\u001b[0mfrontier\u001b[0m\u001b[0;34m)\u001b[0m\u001b[0;34m)\u001b[0m\u001b[0;34m:\u001b[0m\u001b[0;34m\u001b[0m\u001b[0m\n\u001b[0;32m--> 979\u001b[0;31m                                 \u001b[0mtotal_set\u001b[0m\u001b[0;34m|=\u001b[0m\u001b[0mset\u001b[0m\u001b[0;34m(\u001b[0m\u001b[0;34m[\u001b[0m\u001b[0mv\u001b[0m \u001b[0;32mfor\u001b[0m \u001b[0mv\u001b[0m \u001b[0;32min\u001b[0m \u001b[0mfrontier\u001b[0m\u001b[0;34m[\u001b[0m\u001b[0mii\u001b[0m\u001b[0;34m]\u001b[0m\u001b[0;34m.\u001b[0m\u001b[0mneighbors\u001b[0m\u001b[0;34m(\u001b[0m\u001b[0;34m)\u001b[0m \u001b[0;32mif\u001b[0m \u001b[0;32mnot\u001b[0m \u001b[0mv\u001b[0m\u001b[0;34m[\u001b[0m\u001b[0;34m'sampled'\u001b[0m\u001b[0;34m]\u001b[0m\u001b[0;34m]\u001b[0m\u001b[0;34m)\u001b[0m\u001b[0;34m\u001b[0m\u001b[0m\n\u001b[0m\u001b[1;32m    980\u001b[0m \u001b[0;34m\u001b[0m\u001b[0m\n\u001b[1;32m    981\u001b[0m \u001b[0;34m\u001b[0m\u001b[0m\n",
      "\u001b[0;31mKeyboardInterrupt\u001b[0m: "
     ]
    }
   ],
   "source": [
    "\n",
    "\n",
    "graph_files = [f for f in os.listdir('./nsf_data/') if f.endswith('pk')]\n",
    "samplers  = ['XS', 'FF', 'RW', 'UNI', 'ES', 'SI' ]\n",
    "\n",
    "sims = 25 # number of simulations\n",
    "sample_rate   = 20\n",
    "pnames  = [] # properties to compute while sampling\n",
    "dataclustersize = 8 # k of the cluster\n",
    "\n",
    "for graph_file in graph_files:\n",
    "    fname = graph_file[:-3]\n",
    "    main_dir = './nsf_out/'+fname+'/'\n",
    "    print fname\n",
    "    # loading the graph\n",
    "    g = pk.load(open('./nsf_data/'+graph_file))\n",
    "    print len(g.vs)\n",
    "\n",
    "    finding_attrs = ['awad', 'pi', 'copi', 'amt', 'dur']\n",
    "    for i in range(len(finding_attrs)):\n",
    "        g.vs['cont_' + str(i)] = [float(a) for a in g.vs[finding_attrs[i]]]\n",
    "    g.vs['continuous'] = [np.array([v['cont_'+str(i)] for i in range(len(finding_attrs))]) for v in g.vs]\n",
    "    odata = [v['continuous'] for v in g.vs]\n",
    "\n",
    "    for process_id in range(sims):\n",
    "        print ('start_with', process_id)\n",
    "\n",
    "        seed = datetime.now()\n",
    "        for k in range(len(samplers)):\n",
    "            sampler = samplers[k]\n",
    "            stepsize= int(1.0 * sample_rate / 100.0 * len(g.vs))\n",
    "\n",
    "            # loading the sampling function\n",
    "            afunc = _nsf_multi_aglos.algo_names(sampler)\n",
    "            print sampler+'_data_'+  str(process_id)\n",
    "\n",
    "            # sampling the nodes\n",
    "            _, sampled_ids  = afunc(g, seed, stepsize, len(finding_attrs), dataclustersize, ['awad'], sample_rate, pnames)\n",
    "\n",
    "\n",
    "            # saving the sampled nodes\n",
    "            os.system('mkdir ./nsf_out/'+fname)\n",
    "            os.system('mkdir ./nsf_out/'+fname+'/'+'tmp/')\n",
    "            main_dir = './nsf_out/'+fname+'/'+'tmp/'\n",
    "            sout = open(main_dir+sampler+'_data_'+  str(process_id)+ '_sampled.txt', 'w')\n",
    "            for sampled_id in sampled_ids:\n",
    "                sout.write(str(sampled_id)+',')\n",
    "            sout.close()\n",
    "\n"
   ]
  },
  {
   "cell_type": "code",
   "execution_count": null,
   "metadata": {},
   "outputs": [],
   "source": []
  }
 ],
 "metadata": {
  "kernelspec": {
   "display_name": "Python 2",
   "language": "python",
   "name": "python2"
  },
  "language_info": {
   "codemirror_mode": {
    "name": "ipython",
    "version": 2
   },
   "file_extension": ".py",
   "mimetype": "text/x-python",
   "name": "python",
   "nbconvert_exporter": "python",
   "pygments_lexer": "ipython2",
   "version": "2.7.16"
  },
  "latex_envs": {
   "LaTeX_envs_menu_present": true,
   "autocomplete": true,
   "bibliofile": "biblio.bib",
   "cite_by": "apalike",
   "current_citInitial": 1,
   "eqLabelWithNumbers": true,
   "eqNumInitial": 1,
   "hotkeys": {
    "equation": "Ctrl-E",
    "itemize": "Ctrl-I"
   },
   "labels_anchors": false,
   "latex_user_defs": false,
   "report_style_numbering": false,
   "user_envs_cfg": false
  },
  "toc": {
   "colors": {
    "hover_highlight": "#DAA520",
    "running_highlight": "#FF0000",
    "selected_highlight": "#FFD700"
   },
   "moveMenuLeft": true,
   "nav_menu": {
    "height": "12px",
    "width": "252px"
   },
   "navigate_menu": true,
   "number_sections": true,
   "sideBar": true,
   "threshold": 4,
   "toc_cell": false,
   "toc_section_display": "block",
   "toc_window_display": false,
   "widenNotebook": false
  }
 },
 "nbformat": 4,
 "nbformat_minor": 2
}
